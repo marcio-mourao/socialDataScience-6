{
 "cells": [
  {
   "cell_type": "markdown",
   "metadata": {
    "nbpresent": {
     "id": "f77e2465-07f3-4ad0-ab0b-970cc19da161"
    }
   },
   "source": [
    "# <center> DATA SCIENCE WITH SOCIAL SCIENCE DATA: <br/> BUILDING PREDICTIVE MODELS USING PYTHON'S SCIKIT-LEARN <br/><br/> CSCAR WORKSHOP <br/><br/> 02/23/2018\n",
    "## <center> Marcio Mourao and Jeff Lockhart"
   ]
  },
  {
   "cell_type": "markdown",
   "metadata": {
    "collapsed": true
   },
   "source": [
    "# <center> Setup for Anaconda / Jupyter Notebook\n",
    "\n",
    "<ul>\n",
    "    <li>Go to the page https://marcio-mourao.github.io/</li>\n",
    "    <li>Download the materials (first two docs) under \"Social Data Science\" to your \"username/Documents\"</li><br/>\n",
    "    \n",
    "    <li>Click the Windows button (Bottom Left Corner)</li>\n",
    "    <li>Click \"All apps\"</li>\n",
    "    <li>Click \"Anaconda3\"</li>\n",
    "    <li>Click \"Anaconda Prompt\" </li>\n",
    "    <ul>\n",
    "        <li>Enter \"conda update pandas\"</li>\n",
    "        <li>Enter \"conda update scikit-learn\"</li>\n",
    "    </ul><br/>\n",
    "    \n",
    "    <li>Click the Windows button (Bottom Left Corner)</li>\n",
    "    <li>Click \"All apps\"</li>\n",
    "    <li>Click \"Anaconda3\"</li>\n",
    "    <li>Click \"Jupyter Notebook\" </li><br/>\n",
    "    <li>Upload 'adult.csv' (may not be necessary)</li>\n",
    "    <li>Click \"Workshop6.ipynb\" (this should open a new tab in the browser)</li>\n",
    "</ul>"
   ]
  },
  {
   "cell_type": "markdown",
   "metadata": {},
   "source": [
    "# <center> Introduction\n",
    "\n",
    "<ul>\n",
    "  <li>Please, sign up the sheet! </li>\n",
    "  <li>Don't forget to go to: http://cscar.research.umich.edu/ to know what we're offering!</li>\n",
    "  <li>Any questions/feedback, you can send an email to <a href=\"mailto:mdam@umich.edu\" target=\"_top\">Marcio.</a>\n",
    "</ul>"
   ]
  },
  {
   "cell_type": "markdown",
   "metadata": {},
   "source": [
    "# <center> Summary of this workshop\n",
    "\n",
    "<ul>\n",
    "  <li>Summary of Python Data Types</li>\n",
    "  <li>Pandas Dataframes</li>\n",
    "  <li>Scikit-learn</li>\n",
    "</ul>\n",
    "\n"
   ]
  },
  {
   "cell_type": "markdown",
   "metadata": {},
   "source": [
    "# <center> References\n",
    "\n",
    "<ul>\n",
    "  <li>https://www.continuum.io/anaconda-overview</li>\n",
    "  <li>http://www.numpy.org/</li>\n",
    "  <li>http://pandas.pydata.org/pandas-docs/stable/generated/pandas.DataFrame.html</li>\n",
    "  <li>http://pandas.pydata.org/pandas-docs/stable/10min.html</li>\n",
    "  <li>http://matplotlib.org/</li>\n",
    "  <li>http://scikit-learn.org/stable/documentation.html</li>\n",
    "  <li>https://pypi.python.org/pypi/patsy</li>\n",
    "</ul>"
   ]
  },
  {
   "cell_type": "markdown",
   "metadata": {},
   "source": [
    "## <center> Import relevant general modules"
   ]
  },
  {
   "cell_type": "code",
   "execution_count": null,
   "metadata": {
    "collapsed": true,
    "nbpresent": {
     "id": "56b6dfff-16a3-4ab8-b0cb-497226d0e34f"
    }
   },
   "outputs": [],
   "source": [
    "%matplotlib inline\n",
    "import numpy as np\n",
    "import pandas as pd\n",
    "import matplotlib.pyplot as plt"
   ]
  },
  {
   "cell_type": "code",
   "execution_count": null,
   "metadata": {},
   "outputs": [],
   "source": [
    "import sys\n",
    "print(sys.version)\n",
    "print(np.__version__)\n",
    "print(pd.__version__)"
   ]
  },
  {
   "cell_type": "markdown",
   "metadata": {},
   "source": [
    "## <center> Summary of Python Data Types"
   ]
  },
  {
   "cell_type": "markdown",
   "metadata": {},
   "source": [
    "## Python Simple Data Types\n",
    "##### Integers\n",
    "##### Floats\n",
    "##### Booleans"
   ]
  },
  {
   "cell_type": "markdown",
   "metadata": {},
   "source": [
    "## Python Data Structures"
   ]
  },
  {
   "cell_type": "markdown",
   "metadata": {},
   "source": [
    "### Lists"
   ]
  },
  {
   "cell_type": "code",
   "execution_count": null,
   "metadata": {},
   "outputs": [],
   "source": [
    "#An example of a list\n",
    "example_list = [2,4,'fg',8,[3,4]]\n",
    "print(type(example_list))\n",
    "print(example_list)\n",
    "print(example_list[0])\n",
    "print(example_list[2:4])\n",
    "print(example_list[-2])\n",
    "print(example_list[4][0])\n",
    "example_list[1]=100; print(example_list) # Modifies one element of the list"
   ]
  },
  {
   "cell_type": "markdown",
   "metadata": {},
   "source": [
    "### Numpy arrays"
   ]
  },
  {
   "cell_type": "code",
   "execution_count": null,
   "metadata": {},
   "outputs": [],
   "source": [
    "#An example of a numpy array\n",
    "example_array = np.array([2,4,'4',8,10])\n",
    "print(example_array)\n",
    "print(example_array[0])\n",
    "print(example_array[2:4])\n",
    "print(example_array[-2])\n",
    "example_array[2]=20; print(example_array) # Modifies one element of the numpy array"
   ]
  },
  {
   "cell_type": "markdown",
   "metadata": {},
   "source": [
    "### Dictionary"
   ]
  },
  {
   "cell_type": "code",
   "execution_count": null,
   "metadata": {},
   "outputs": [],
   "source": [
    "#An example of a dictionary\n",
    "example_dictionary = {'A':20,'B':40,'C':60}\n",
    "print(example_dictionary)\n",
    "print(example_dictionary['B'])\n",
    "example_dictionary['C']=100\n",
    "print(example_dictionary)\n",
    "#print(example_dictionary[0]) # This should produce an error"
   ]
  },
  {
   "cell_type": "markdown",
   "metadata": {},
   "source": [
    "### Pandas Series\n",
    "#### A one dimensional labeled array"
   ]
  },
  {
   "cell_type": "code",
   "execution_count": null,
   "metadata": {},
   "outputs": [],
   "source": [
    "#An example of a pandas series\n",
    "example_dictionary = {'A':20,'B':40,'C':60,'D':55}\n",
    "example_series = pd.Series(example_dictionary)\n",
    "print(example_series)\n",
    "print(example_series[0])\n",
    "print(example_series['B'])\n",
    "print(example_series['B':])"
   ]
  },
  {
   "cell_type": "markdown",
   "metadata": {},
   "source": [
    "# <center> Pandas dataframes\n",
    "### <center> A two-dimensional labeled data structure with columns of potentially different types"
   ]
  },
  {
   "cell_type": "code",
   "execution_count": null,
   "metadata": {},
   "outputs": [],
   "source": [
    "#Creation with a list\n",
    "aux_list=[['ds',1.0],\n",
    "          ['as',3],\n",
    "          ['bq',5]]\n",
    "\n",
    "example_DF = pd.DataFrame(aux_list,index=['Row1','Row2','Row3'],columns=['Col1','Col2'])\n",
    "example_DF"
   ]
  },
  {
   "cell_type": "code",
   "execution_count": null,
   "metadata": {},
   "outputs": [],
   "source": [
    "#Creation with a numpy array\n",
    "example_DF=pd.DataFrame(np.random.randint(0,10,(3,2)),index=['Row1','Row2','Row3'],columns=['Col1','Col2'])\n",
    "example_DF"
   ]
  },
  {
   "cell_type": "code",
   "execution_count": null,
   "metadata": {},
   "outputs": [],
   "source": [
    "#Creation with a dictionary\n",
    "example_DF=pd.DataFrame({'Col1':range(3),'Col2':pd.Series([4,5,6],index=[1,2,3])})\n",
    "example_DF"
   ]
  },
  {
   "cell_type": "markdown",
   "metadata": {},
   "source": [
    "# <center> Some info about the dataset"
   ]
  },
  {
   "cell_type": "markdown",
   "metadata": {},
   "source": [
    "This data was extracted from the 1994 Census bureau database by Ronny Kohavi and Barry Becker (Data Mining and Visualization, Silicon Graphics). A set of reasonably clean records was extracted using the following conditions: ((AAGE>16) && (AGI>100) && (AFNLWGT>1) && (HRSWK>0)). \n",
    "\n",
    "<b>The prediction task is to determine whether a person makes over $50K a year!</b>\n",
    "\n",
    "<b>Attributes:</b>\n",
    "\n",
    "income: >50K, <=50K\n",
    "\n",
    "age: continuous\n",
    "\n",
    "workclass: Private, Self-emp-not-inc, Self-emp-inc, Federal-gov, Local-gov, State-gov, Without-pay, Never-worked\n",
    "\n",
    "fnlwgt: continuous\n",
    "\n",
    "education: Bachelors, Some-college, 11th, HS-grad, Prof-school, Assoc-acdm, Assoc-voc, 9th, 7th-8th, 12th, Masters, 1st-4th, 10th, Doctorate, 5th-6th, Preschool\n",
    "\n",
    "education-num: continuous\n",
    "\n",
    "marital-status: Married-civ-spouse, Divorced, Never-married, Separated, Widowed, Married-spouse-absent, Married-AF-spouse\n",
    "\n",
    "occupation: Tech-support, Craft-repair, Other-service, Sales, Exec-managerial, Prof-specialty, Handlers-cleaners, Machine-op-inspct, Adm-clerical, Farming-fishing, Transport-moving, Priv-house-serv, Protective-serv, Armed-Forces\n",
    "\n",
    "relationship: Wife, Own-child, Husband, Not-in-family, Other-relative, Unmarried\n",
    "\n",
    "race: White, Asian-Pac-Islander, Amer-Indian-Eskimo, Other, Black\n",
    "\n",
    "sex: Female, Male\n",
    "\n",
    "capital-gain: continuous\n",
    "\n",
    "capital-loss: continuous\n",
    "\n",
    "hours-per-week: continuous\n",
    "\n",
    "native-country: United-States, Cambodia, England, Puerto-Rico, Canada, Germany, Outlying-US(Guam-USVI-etc), India, Japan, Greece, South, China, Cuba, Iran, Honduras, Philippines, Italy, Poland, Jamaica, Vietnam, Mexico, Portugal, Ireland, France, Dominican-Republic, Laos, Ecuador, Taiwan, Haiti, Columbia, Hungary, Guatemala, Nicaragua, Scotland, Thailand, Yugoslavia, El-Salvador, Trinadad&Tobago, Peru, Hong, Holand-Netherlands"
   ]
  },
  {
   "cell_type": "markdown",
   "metadata": {},
   "source": [
    "## Load and describe the data"
   ]
  },
  {
   "cell_type": "code",
   "execution_count": null,
   "metadata": {
    "collapsed": true
   },
   "outputs": [],
   "source": [
    "#Displays signature of the function\n",
    "?pd.read_csv"
   ]
  },
  {
   "cell_type": "code",
   "execution_count": null,
   "metadata": {},
   "outputs": [],
   "source": [
    "#Creates a dataframe named \"adults\" from reading the file \"adult.csv\"\n",
    "adults = pd.read_csv('adult.csv',na_values=['?'])\n",
    "adults.head()"
   ]
  },
  {
   "cell_type": "code",
   "execution_count": null,
   "metadata": {},
   "outputs": [],
   "source": [
    "#Displays the type of the object we are working with\n",
    "type(adults)"
   ]
  },
  {
   "cell_type": "code",
   "execution_count": null,
   "metadata": {},
   "outputs": [],
   "source": [
    "#Obtains the number of lines and columns of the dataframe\n",
    "adults.shape"
   ]
  },
  {
   "cell_type": "code",
   "execution_count": null,
   "metadata": {},
   "outputs": [],
   "source": [
    "#Obtains the dataframe main types\n",
    "adults.dtypes"
   ]
  },
  {
   "cell_type": "code",
   "execution_count": null,
   "metadata": {
    "nbpresent": {
     "id": "1862e15b-a819-4062-93a3-b68d3f0a0865"
    }
   },
   "outputs": [],
   "source": [
    "#Displays first lines of the dataframe\n",
    "adults.head(5)"
   ]
  },
  {
   "cell_type": "code",
   "execution_count": null,
   "metadata": {},
   "outputs": [],
   "source": [
    "#Displays last lines of the dataframe\n",
    "adults.tail(3)"
   ]
  },
  {
   "cell_type": "code",
   "execution_count": null,
   "metadata": {},
   "outputs": [],
   "source": [
    "#Returns the index of the dataframe\n",
    "adults.index"
   ]
  },
  {
   "cell_type": "code",
   "execution_count": null,
   "metadata": {},
   "outputs": [],
   "source": [
    "#Returns the columns of the dataframe\n",
    "adults.columns"
   ]
  },
  {
   "cell_type": "code",
   "execution_count": null,
   "metadata": {},
   "outputs": [],
   "source": [
    "#Provides a statistical summary of the adults data\n",
    "adults.describe()"
   ]
  },
  {
   "cell_type": "code",
   "execution_count": null,
   "metadata": {},
   "outputs": [],
   "source": [
    "#Provides a statistical summary of the adults data\n",
    "adults.describe(include='all')"
   ]
  },
  {
   "cell_type": "code",
   "execution_count": null,
   "metadata": {},
   "outputs": [],
   "source": [
    "#Summarizes just the column 'age\n",
    "adults['age'].describe()"
   ]
  },
  {
   "cell_type": "code",
   "execution_count": null,
   "metadata": {},
   "outputs": [],
   "source": [
    "#Displays whether columns contain any null values\n",
    "adults.isnull().any(axis=0)"
   ]
  },
  {
   "cell_type": "code",
   "execution_count": null,
   "metadata": {},
   "outputs": [],
   "source": [
    "#Count the number of missing values in each column of the dataframe\n",
    "adults.apply(lambda x: sum(x.isnull()),axis=0)"
   ]
  },
  {
   "cell_type": "code",
   "execution_count": null,
   "metadata": {},
   "outputs": [],
   "source": [
    "#Count the number of missing values in each column of the dataframe and sums them up\n",
    "adults.apply(lambda x: sum(x.isnull()),axis=0).sum()"
   ]
  },
  {
   "cell_type": "code",
   "execution_count": null,
   "metadata": {},
   "outputs": [],
   "source": [
    "#Count number of lines with NaNs\n",
    "adults.apply(lambda x: x.isnull().any(),axis=1).sum()"
   ]
  },
  {
   "cell_type": "markdown",
   "metadata": {},
   "source": [
    "## Machine Learning"
   ]
  },
  {
   "cell_type": "code",
   "execution_count": null,
   "metadata": {
    "collapsed": true
   },
   "outputs": [],
   "source": [
    "#Import modules\n",
    "from sklearn.linear_model import LogisticRegression\n",
    "from sklearn.ensemble import RandomForestClassifier\n",
    "from sklearn.model_selection import train_test_split, KFold, cross_val_score\n",
    "from sklearn import metrics"
   ]
  },
  {
   "cell_type": "code",
   "execution_count": null,
   "metadata": {},
   "outputs": [],
   "source": [
    "#A reminder of the data we have\n",
    "adults.describe(include='all')"
   ]
  },
  {
   "cell_type": "code",
   "execution_count": null,
   "metadata": {},
   "outputs": [],
   "source": [
    "#Renames columns on the dataframe for compatibility with the patsy library\n",
    "adults.rename(columns={'education.num':'educationnum', \n",
    "                       'hours.per.week':'hoursperweek',\n",
    "                       'marital.status':'maritalstatus',\n",
    "                       'capital.gain':'capitalgain',\n",
    "                       'capital.loss':'capitalloss',\n",
    "                       'native.country':'nativecountry'},\n",
    "              inplace=True)\n",
    "\n",
    "adults.columns"
   ]
  },
  {
   "cell_type": "code",
   "execution_count": null,
   "metadata": {
    "collapsed": true
   },
   "outputs": [],
   "source": [
    "#Converts column income into an integer\n",
    "adults.income = pd.factorize(adults.income)[0]"
   ]
  },
  {
   "cell_type": "code",
   "execution_count": null,
   "metadata": {
    "collapsed": true
   },
   "outputs": [],
   "source": [
    "#Import patsy\n",
    "from patsy import dmatrices\n",
    "\n",
    "#Check dmatrices signature\n",
    "?dmatrices"
   ]
  },
  {
   "cell_type": "code",
   "execution_count": null,
   "metadata": {},
   "outputs": [],
   "source": [
    "#Set formula to use in dmatrices\n",
    "formula = 'income ~ -1 + age + workclass + educationnum + maritalstatus + ' + \\\n",
    "                   'occupation + relationship + race + sex + ' + \\\n",
    "                   'capitalgain + capitalloss + hoursperweek + nativecountry'\n",
    "\n",
    "#Obtain the design matrix for use in the logistic regression and random forests modeling approaches\n",
    "y, X = dmatrices(formula, adults, return_type = 'dataframe')"
   ]
  },
  {
   "cell_type": "code",
   "execution_count": null,
   "metadata": {},
   "outputs": [],
   "source": [
    "#Check first elements\n",
    "y.head()"
   ]
  },
  {
   "cell_type": "code",
   "execution_count": null,
   "metadata": {},
   "outputs": [],
   "source": [
    "#Check y types\n",
    "y.dtypes"
   ]
  },
  {
   "cell_type": "code",
   "execution_count": null,
   "metadata": {},
   "outputs": [],
   "source": [
    "#Describe the dataframe y\n",
    "y.describe()"
   ]
  },
  {
   "cell_type": "code",
   "execution_count": null,
   "metadata": {},
   "outputs": [],
   "source": [
    "#Look at the first observations of the design matrix\n",
    "X.head()"
   ]
  },
  {
   "cell_type": "code",
   "execution_count": null,
   "metadata": {},
   "outputs": [],
   "source": [
    "#Check X types\n",
    "X.dtypes"
   ]
  },
  {
   "cell_type": "code",
   "execution_count": null,
   "metadata": {},
   "outputs": [],
   "source": [
    "#Describe the design matrix\n",
    "X.describe()"
   ]
  },
  {
   "cell_type": "code",
   "execution_count": null,
   "metadata": {},
   "outputs": [],
   "source": [
    "#The dependent variable needs to be a unidimensional vector rather than a dataframe\n",
    "y = y.income.values"
   ]
  },
  {
   "cell_type": "code",
   "execution_count": null,
   "metadata": {},
   "outputs": [],
   "source": [
    "#Check types of both y (dependent variable) and X (predictors)\n",
    "print(y.shape)\n",
    "print(X.shape)"
   ]
  },
  {
   "cell_type": "code",
   "execution_count": null,
   "metadata": {
    "collapsed": true
   },
   "outputs": [],
   "source": [
    "?train_test_split"
   ]
  },
  {
   "cell_type": "code",
   "execution_count": null,
   "metadata": {},
   "outputs": [],
   "source": [
    "#Obtain the data for the fitting\n",
    "X_train, X_test, y_train, y_test = train_test_split(X, y, random_state=13, stratify = y)\n",
    "\n",
    "print('Total number of records: ', adults.shape[0])\n",
    "print('Type of X_train: ', type(X_train))\n",
    "print('Number of records in X_train: ', len(X_train))\n",
    "print('Fraction on X_train: ', len(X_train)/adults.shape[0])\n",
    "print('Number of records in y_train: ', len(y_train))\n",
    "print('Type of y_train: \\n\\n', type(y_train))\n",
    "\n",
    "print('Type of X_test: ', type(X_test))\n",
    "print('Number of records in X_test: ', len(X_test))\n",
    "print('Fraction on X_test: ', len(X_test)/adults.shape[0])\n",
    "print('Number of records in y_test: ', len(y_test))\n",
    "print('Type of y_test: ', type(y_test))"
   ]
  },
  {
   "cell_type": "markdown",
   "metadata": {},
   "source": [
    "### Logistic Regression"
   ]
  },
  {
   "cell_type": "code",
   "execution_count": null,
   "metadata": {},
   "outputs": [],
   "source": [
    "#Creates a Logistic Regression classification model\n",
    "LR_model = LogisticRegression()\n",
    "\n",
    "#Fit to the data\n",
    "LR_model.fit(X_train, y_train)"
   ]
  },
  {
   "cell_type": "code",
   "execution_count": null,
   "metadata": {},
   "outputs": [],
   "source": [
    "#Obtain class predictions\n",
    "y_pred_LR_prob = LR_model.predict_proba(X_test)\n",
    "print('Predicted probabilities: \\n', y_pred_LR_prob)\n",
    "\n",
    "#Obtain probability predictions\n",
    "y_pred_LR_class = LR_model.predict(X_test)\n",
    "print('Predicted classes: \\n', y_pred_LR_class)"
   ]
  },
  {
   "cell_type": "code",
   "execution_count": null,
   "metadata": {},
   "outputs": [],
   "source": [
    "#Obtains accuracy score\n",
    "print('LR Score: ', metrics.accuracy_score(y_test, y_pred_LR_class))"
   ]
  },
  {
   "cell_type": "code",
   "execution_count": null,
   "metadata": {},
   "outputs": [],
   "source": [
    "#Obtains confusion matrix\n",
    "LR_cm=metrics.confusion_matrix(y_test,y_pred_LR_class)\n",
    "LR_cm"
   ]
  },
  {
   "cell_type": "code",
   "execution_count": null,
   "metadata": {},
   "outputs": [],
   "source": [
    "#KFolds and Cross_val_scores\n",
    "kf = KFold(n_splits=10, shuffle=True)\n",
    "print('Cross validation score: ', cross_val_score(LR_model, X, y, cv=kf).mean())"
   ]
  },
  {
   "cell_type": "markdown",
   "metadata": {},
   "source": [
    "### Random Forests"
   ]
  },
  {
   "cell_type": "code",
   "execution_count": null,
   "metadata": {},
   "outputs": [],
   "source": [
    "#Creates a RF classification model\n",
    "RF_model = RandomForestClassifier(n_estimators=10, criterion='gini')\n",
    "\n",
    "#Fit to the data\n",
    "RF_model.fit(X_train, y_train)"
   ]
  },
  {
   "cell_type": "code",
   "execution_count": null,
   "metadata": {},
   "outputs": [],
   "source": [
    "#Obtain class predictions\n",
    "y_pred_RF_prob = RF_model.predict_proba(X_test)\n",
    "print('Predicted probabilities: \\n', y_pred_RF_prob)\n",
    "\n",
    "#Obtain probability predictions\n",
    "y_pred_RF_class = RF_model.predict(X_test)\n",
    "print('Predicted classes: \\n', y_pred_RF_class)"
   ]
  },
  {
   "cell_type": "code",
   "execution_count": null,
   "metadata": {},
   "outputs": [],
   "source": [
    "#Obtains accuracy score\n",
    "print('RF Score: ', metrics.accuracy_score(y_test, y_pred_RF_class))"
   ]
  },
  {
   "cell_type": "code",
   "execution_count": null,
   "metadata": {},
   "outputs": [],
   "source": [
    "#Obtains confusion matrix\n",
    "RF_cm=metrics.confusion_matrix(y_test,y_pred_RF_class)\n",
    "RF_cm"
   ]
  },
  {
   "cell_type": "code",
   "execution_count": null,
   "metadata": {},
   "outputs": [],
   "source": [
    "#KFolds and Cross_val_scores\n",
    "kf = KFold(n_splits=10, shuffle=True)\n",
    "print('Cross validation score: ', cross_val_score(RF_model, X, y, cv=kf).mean())"
   ]
  }
 ],
 "metadata": {
  "anaconda-cloud": {},
  "kernelspec": {
   "display_name": "Python 3",
   "language": "python",
   "name": "python3"
  },
  "language_info": {
   "codemirror_mode": {
    "name": "ipython",
    "version": 3
   },
   "file_extension": ".py",
   "mimetype": "text/x-python",
   "name": "python",
   "nbconvert_exporter": "python",
   "pygments_lexer": "ipython3",
   "version": "3.6.4"
  },
  "nbpresent": {
   "slides": {
    "8ce21dab-2b7a-439c-8f0a-8a1036a1ac0d": {
     "id": "8ce21dab-2b7a-439c-8f0a-8a1036a1ac0d",
     "prev": null,
     "regions": {
      "d8401624-efe9-4853-a676-de863b4ba3cd": {
       "attrs": {
        "height": 1,
        "width": 1,
        "x": 0,
        "y": 0
       },
       "id": "d8401624-efe9-4853-a676-de863b4ba3cd"
      }
     },
     "theme": null
    }
   },
   "themes": {}
  }
 },
 "nbformat": 4,
 "nbformat_minor": 1
}
